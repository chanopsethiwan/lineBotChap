{
 "cells": [
  {
   "cell_type": "code",
   "execution_count": 5,
   "metadata": {},
   "outputs": [],
   "source": [
    "import json\n",
    "from pprint import pprint"
   ]
  },
  {
   "cell_type": "code",
   "execution_count": 3,
   "metadata": {},
   "outputs": [],
   "source": [
    "message = json.dumps({\n",
    "  \"destination\": \"xxxxxxxxxx\",\n",
    "  \"events\": [\n",
    "    {\n",
    "      \"replyToken\": \"nHuyWiB7yP5Zw52FIkcQobQuGDXCTA\",\n",
    "      \"type\": \"message\",\n",
    "      \"mode\": \"active\",\n",
    "      \"timestamp\": 1462629479859,\n",
    "      \"source\": {\n",
    "        \"type\": \"user\",\n",
    "        \"userId\": \"U4af4980629...\"\n",
    "      },\n",
    "      \"message\": {\n",
    "        \"id\": \"325708\",\n",
    "        \"type\": \"text\",\n",
    "        \"text\": \"Hello, world! (love)\",\n",
    "        \"emojis\": [\n",
    "          {\n",
    "            \"index\": 14,\n",
    "            \"length\": 6,\n",
    "            \"productId\": \"5ac1bfd5040ab15980c9b435\",\n",
    "            \"emojiId\": \"001\"\n",
    "          }\n",
    "        ]\n",
    "      }\n",
    "    }\n",
    "  ]\n",
    "})\n"
   ]
  },
  {
   "cell_type": "code",
   "execution_count": 16,
   "metadata": {},
   "outputs": [
    {
     "data": {
      "text/plain": [
       "'{\"body\": \"{\"destination\": \"xxxxxxxxxx\", \"events\": [{\"replyToken\": \"nHuyWiB7yP5Zw52FIkcQobQuGDXCTA\", \"type\": \"message\", \"mode\": \"active\", \"timestamp\": 1462629479859, \"source\": {\"type\": \"user\", \"userId\": \"U4af4980629...\"}, \"message\": {\"id\": \"325708\", \"type\": \"text\", \"text\": \"Hello, world! (love)\", \"emojis\": [{\"index\": 14, \"length\": 6, \"productId\": \"5ac1bfd5040ab15980c9b435\", \"emojiId\": \"001\"}]}}]}\"}'"
      ]
     },
     "execution_count": 16,
     "metadata": {},
     "output_type": "execute_result"
    }
   ],
   "source": [
    "json.dumps({'body':message}).replace('\\\\\"','\\\"')"
   ]
  },
  {
   "cell_type": "code",
   "execution_count": null,
   "metadata": {},
   "outputs": [],
   "source": []
  }
 ],
 "metadata": {
  "kernelspec": {
   "display_name": "Python 3",
   "language": "python",
   "name": "python3"
  },
  "language_info": {
   "codemirror_mode": {
    "name": "ipython",
    "version": 3
   },
   "file_extension": ".py",
   "mimetype": "text/x-python",
   "name": "python",
   "nbconvert_exporter": "python",
   "pygments_lexer": "ipython3",
   "version": "3.8.5"
  }
 },
 "nbformat": 4,
 "nbformat_minor": 4
}
