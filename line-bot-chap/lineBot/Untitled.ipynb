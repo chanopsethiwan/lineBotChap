{
 "cells": [
  {
   "cell_type": "code",
   "execution_count": 5,
   "metadata": {},
   "outputs": [],
   "source": [
    "import json\n",
    "from pprint import pprint"
   ]
  },
  {
   "cell_type": "code",
   "execution_count": 3,
   "metadata": {},
   "outputs": [],
   "source": [
    "message = json.dumps({\n",
    "  \"destination\": \"xxxxxxxxxx\",\n",
    "  \"events\": [\n",
    "    {\n",
    "      \"replyToken\": \"nHuyWiB7yP5Zw52FIkcQobQuGDXCTA\",\n",
    "      \"type\": \"message\",\n",
    "      \"mode\": \"active\",\n",
    "      \"timestamp\": 1462629479859,\n",
    "      \"source\": {\n",
    "        \"type\": \"user\",\n",
    "        \"userId\": \"U4af4980629...\"\n",
    "      },\n",
    "      \"message\": {\n",
    "        \"id\": \"325708\",\n",
    "        \"type\": \"text\",\n",
    "        \"text\": \"Hello, world! (love)\",\n",
    "        \"emojis\": [\n",
    "          {\n",
    "            \"index\": 14,\n",
    "            \"length\": 6,\n",
    "            \"productId\": \"5ac1bfd5040ab15980c9b435\",\n",
    "            \"emojiId\": \"001\"\n",
    "          }\n",
    "        ]\n",
    "      }\n",
    "    }\n",
    "  ]\n",
    "})\n"
   ]
  },
  {
   "cell_type": "code",
   "execution_count": 16,
   "metadata": {},
   "outputs": [
    {
     "data": {
      "text/plain": [
       "'{\"body\": \"{\"destination\": \"xxxxxxxxxx\", \"events\": [{\"replyToken\": \"nHuyWiB7yP5Zw52FIkcQobQuGDXCTA\", \"type\": \"message\", \"mode\": \"active\", \"timestamp\": 1462629479859, \"source\": {\"type\": \"user\", \"userId\": \"U4af4980629...\"}, \"message\": {\"id\": \"325708\", \"type\": \"text\", \"text\": \"Hello, world! (love)\", \"emojis\": [{\"index\": 14, \"length\": 6, \"productId\": \"5ac1bfd5040ab15980c9b435\", \"emojiId\": \"001\"}]}}]}\"}'"
      ]
     },
     "execution_count": 16,
     "metadata": {},
     "output_type": "execute_result"
    }
   ],
   "source": [
    "json.dumps({'body':message}).replace('\\\\\"','\\\"')"
   ]
  },
  {
   "cell_type": "code",
   "execution_count": 1,
   "metadata": {},
   "outputs": [
    {
     "name": "stdout",
     "output_type": "stream",
     "text": [
      "List Trainer: [###                 ] 17%"
     ]
    },
    {
     "name": "stderr",
     "output_type": "stream",
     "text": [
      "[nltk_data] Downloading package stopwords to /Users/chap/nltk_data...\n",
      "[nltk_data]   Package stopwords is already up-to-date!\n",
      "[nltk_data] Downloading package averaged_perceptron_tagger to\n",
      "[nltk_data]     /Users/chap/nltk_data...\n",
      "[nltk_data]   Package averaged_perceptron_tagger is already up-to-\n",
      "[nltk_data]       date!\n",
      "/usr/local/Caskroom/miniconda/base/envs/python38/lib/python3.8/site-packages/chatterbot/corpus.py:38: YAMLLoadWarning: calling yaml.load() without Loader=... is deprecated, as the default Loader is unsafe. Please read https://msg.pyyaml.org/load for full details.\n",
      "  return yaml.load(data_file)\n"
     ]
    },
    {
     "name": "stdout",
     "output_type": "stream",
     "text": [
      "List Trainer: [####################] 100%\n"
     ]
    },
    {
     "ename": "TypeError",
     "evalue": "cannot pickle '_thread._local' object",
     "output_type": "error",
     "traceback": [
      "\u001b[0;31m---------------------------------------------------------------------------\u001b[0m",
      "\u001b[0;31mTypeError\u001b[0m                                 Traceback (most recent call last)",
      "\u001b[0;32m<ipython-input-1-489df0ac5ce1>\u001b[0m in \u001b[0;36m<module>\u001b[0;34m\u001b[0m\n\u001b[1;32m     17\u001b[0m \u001b[0mtrainer\u001b[0m\u001b[0;34m.\u001b[0m\u001b[0mtrain\u001b[0m\u001b[0;34m(\u001b[0m\u001b[0mconversation\u001b[0m\u001b[0;34m)\u001b[0m\u001b[0;34m\u001b[0m\u001b[0;34m\u001b[0m\u001b[0m\n\u001b[1;32m     18\u001b[0m \u001b[0;34m\u001b[0m\u001b[0m\n\u001b[0;32m---> 19\u001b[0;31m \u001b[0mpickleChatbot\u001b[0m \u001b[0;34m=\u001b[0m \u001b[0mpickle\u001b[0m\u001b[0;34m.\u001b[0m\u001b[0mdumps\u001b[0m\u001b[0;34m(\u001b[0m\u001b[0mchatbot\u001b[0m\u001b[0;34m)\u001b[0m\u001b[0;34m\u001b[0m\u001b[0;34m\u001b[0m\u001b[0m\n\u001b[0m\u001b[1;32m     20\u001b[0m \u001b[0mpickleChatbotDict\u001b[0m \u001b[0;34m=\u001b[0m \u001b[0;34m{\u001b[0m\u001b[0;34m\"pickleChatbot\"\u001b[0m\u001b[0;34m:\u001b[0m \u001b[0mpickleChatbot\u001b[0m\u001b[0;34m}\u001b[0m\u001b[0;34m\u001b[0m\u001b[0;34m\u001b[0m\u001b[0m\n\u001b[1;32m     21\u001b[0m S3.save(\n",
      "\u001b[0;31mTypeError\u001b[0m: cannot pickle '_thread._local' object"
     ]
    }
   ],
   "source": []
  },
  {
   "cell_type": "code",
   "execution_count": null,
   "metadata": {},
   "outputs": [],
   "source": []
  }
 ],
 "metadata": {
  "kernelspec": {
   "display_name": "Python 3",
   "language": "python",
   "name": "python3"
  },
  "language_info": {
   "codemirror_mode": {
    "name": "ipython",
    "version": 3
   },
   "file_extension": ".py",
   "mimetype": "text/x-python",
   "name": "python",
   "nbconvert_exporter": "python",
   "pygments_lexer": "ipython3",
   "version": "3.8.5"
  }
 },
 "nbformat": 4,
 "nbformat_minor": 4
}
