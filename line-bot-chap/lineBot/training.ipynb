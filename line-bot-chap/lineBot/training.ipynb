{
 "cells": [
  {
   "cell_type": "code",
   "execution_count": 12,
   "metadata": {},
   "outputs": [],
   "source": [
    "import pickle\n",
    "from s3bz.s3bz import S3\n",
    "from chatterbot import ChatBot\n",
    "from chatterbot.trainers import ListTrainer"
   ]
  },
  {
   "cell_type": "code",
   "execution_count": 13,
   "metadata": {},
   "outputs": [],
   "source": [
    "credLocation = 'cred.txt'\n",
    "user =''\n",
    "pw = ''\n",
    "if user and pw:\n",
    "    with open (credLocation , 'wb') as f:\n",
    "        pickle.dump({\n",
    "        'user': user,\n",
    "        'pw': pw\n",
    "            }, f)\n",
    "with open(credLocation , 'rb') as f:\n",
    "    creden = pickle.load(f)\n",
    "    PW = creden['pw']\n",
    "    USER = creden['user']"
   ]
  },
  {
   "cell_type": "code",
   "execution_count": 15,
   "metadata": {},
   "outputs": [
    {
     "name": "stdout",
     "output_type": "stream",
     "text": [
      "List Trainer: [####################] 100%"
     ]
    },
    {
     "name": "stderr",
     "output_type": "stream",
     "text": [
      "[nltk_data] Downloading package stopwords to /Users/chap/nltk_data...\n",
      "[nltk_data]   Package stopwords is already up-to-date!\n",
      "[nltk_data] Downloading package averaged_perceptron_tagger to\n",
      "[nltk_data]     /Users/chap/nltk_data...\n",
      "[nltk_data]   Package averaged_perceptron_tagger is already up-to-\n",
      "[nltk_data]       date!\n"
     ]
    },
    {
     "name": "stdout",
     "output_type": "stream",
     "text": [
      "\n"
     ]
    }
   ],
   "source": [
    "chatbot = ChatBot(\"lineBotChap\", storage_adapter ='chatterbot.storage.SQLStorageAdapter', proprecessors = ['chatterbot.preprocessors.clean_whitespace'], database_uri = 'sqlite:////tmp/databse.db', read_only=True)\n",
    "conversation = [\n",
    "    \"Hi\",\n",
    "    \"Hello\",\n",
    "    \"How are you doing?\",\n",
    "    \"I'm doing great\",\n",
    "    \"Thank you\",\n",
    "    \"You're welcome\"\n",
    "]\n",
    "\n",
    "trainer = ListTrainer(chatbot)\n",
    "trainer.train(conversation)\n",
    "\n",
    "key = 'chatterbotdb.db'\n",
    "path = '/tmp/databse.db'\n",
    "bucket = 'trained-bot'\n",
    "S3.saveFile(key = key, path = path, bucket = bucket, user = USER, pw = PW)"
   ]
  },
  {
   "cell_type": "code",
   "execution_count": null,
   "metadata": {},
   "outputs": [],
   "source": []
  }
 ],
 "metadata": {
  "kernelspec": {
   "display_name": "Python 3",
   "language": "python",
   "name": "python3"
  },
  "language_info": {
   "codemirror_mode": {
    "name": "ipython",
    "version": 3
   },
   "file_extension": ".py",
   "mimetype": "text/x-python",
   "name": "python",
   "nbconvert_exporter": "python",
   "pygments_lexer": "ipython3",
   "version": "3.8.5"
  }
 },
 "nbformat": 4,
 "nbformat_minor": 4
}
